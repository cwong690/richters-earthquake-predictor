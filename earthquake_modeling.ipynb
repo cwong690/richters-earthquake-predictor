{
  "cells": [
    {
      "metadata": {
        "collapsed": true
      },
      "cell_type": "markdown",
      "source": "## Richter's Predictor: Modeling Earthquake Damage\n\nThe April 2015 earthquake with a magnitude of 7.8Mw in Nepal(aka Gorkha earthquake) had nearly 9,000 causalties and injured almost 22,000 people. Experts had long warned of the possible damages from deadly earthquakes in Nepal due to its geology, architecture and other factors. Many centuries-old buildings that were a UNESCO World Heritage Site were destroyed.\n\nIn this challenge, we will be predicting the level of damage to buildings ('damage grade'), on a scale of 1-3, with 1 being the lowest grade. This is a multiclass classification problem where we will solve by using logistic regression.\n\nThis is part of a Driven Data competition: https://www.drivendata.org/competitions/57/nepal-earthquake/\n\nFeature descriptions can be found here: https://www.drivendata.org/competitions/57/nepal-earthquake/page/136/"
    },
    {
      "metadata": {
        "trusted": true
      },
      "cell_type": "code",
      "source": "#import useful libraries\nimport numpy as np\nimport pandas as pd\nimport matplotlib.pyplot as plt # for plotting\nimport seaborn as sns # for plotting\n\n%matplotlib inline\n\nimport warnings # hide warning messages\nwarnings.filterwarnings('ignore')",
      "execution_count": 1,
      "outputs": [
        {
          "output_type": "stream",
          "text": "/home/nbuser/anaconda3_501/lib/python3.6/site-packages/matplotlib/font_manager.py:229: UserWarning: Matplotlib is building the font cache using fc-list. This may take a moment.\n  'Matplotlib is building the font cache using fc-list. '\n",
          "name": "stderr"
        }
      ]
    },
    {
      "metadata": {},
      "cell_type": "markdown",
      "source": "### Load Datasets"
    },
    {
      "metadata": {
        "trusted": true
      },
      "cell_type": "code",
      "source": "train = pd.read_csv('train_values.csv')\nlabel = pd.read_csv('train_labels.csv')\ntest = pd.read_csv('test_values.csv')",
      "execution_count": 2,
      "outputs": []
    },
    {
      "metadata": {
        "trusted": true
      },
      "cell_type": "code",
      "source": "#displays all columns\npd.set_option('display.max_columns', 80)\ntrain.head()",
      "execution_count": 3,
      "outputs": [
        {
          "output_type": "execute_result",
          "execution_count": 3,
          "data": {
            "text/html": "<div>\n<style scoped>\n    .dataframe tbody tr th:only-of-type {\n        vertical-align: middle;\n    }\n\n    .dataframe tbody tr th {\n        vertical-align: top;\n    }\n\n    .dataframe thead th {\n        text-align: right;\n    }\n</style>\n<table border=\"1\" class=\"dataframe\">\n  <thead>\n    <tr style=\"text-align: right;\">\n      <th></th>\n      <th>building_id</th>\n      <th>geo_level_1_id</th>\n      <th>geo_level_2_id</th>\n      <th>geo_level_3_id</th>\n      <th>count_floors_pre_eq</th>\n      <th>age</th>\n      <th>area_percentage</th>\n      <th>height_percentage</th>\n      <th>land_surface_condition</th>\n      <th>foundation_type</th>\n      <th>roof_type</th>\n      <th>ground_floor_type</th>\n      <th>other_floor_type</th>\n      <th>position</th>\n      <th>plan_configuration</th>\n      <th>has_superstructure_adobe_mud</th>\n      <th>has_superstructure_mud_mortar_stone</th>\n      <th>has_superstructure_stone_flag</th>\n      <th>has_superstructure_cement_mortar_stone</th>\n      <th>has_superstructure_mud_mortar_brick</th>\n      <th>has_superstructure_cement_mortar_brick</th>\n      <th>has_superstructure_timber</th>\n      <th>has_superstructure_bamboo</th>\n      <th>has_superstructure_rc_non_engineered</th>\n      <th>has_superstructure_rc_engineered</th>\n      <th>has_superstructure_other</th>\n      <th>legal_ownership_status</th>\n      <th>count_families</th>\n      <th>has_secondary_use</th>\n      <th>has_secondary_use_agriculture</th>\n      <th>has_secondary_use_hotel</th>\n      <th>has_secondary_use_rental</th>\n      <th>has_secondary_use_institution</th>\n      <th>has_secondary_use_school</th>\n      <th>has_secondary_use_industry</th>\n      <th>has_secondary_use_health_post</th>\n      <th>has_secondary_use_gov_office</th>\n      <th>has_secondary_use_use_police</th>\n      <th>has_secondary_use_other</th>\n    </tr>\n  </thead>\n  <tbody>\n    <tr>\n      <th>0</th>\n      <td>802906</td>\n      <td>6</td>\n      <td>487</td>\n      <td>12198</td>\n      <td>2</td>\n      <td>30</td>\n      <td>6</td>\n      <td>5</td>\n      <td>t</td>\n      <td>r</td>\n      <td>n</td>\n      <td>f</td>\n      <td>q</td>\n      <td>t</td>\n      <td>d</td>\n      <td>1</td>\n      <td>1</td>\n      <td>0</td>\n      <td>0</td>\n      <td>0</td>\n      <td>0</td>\n      <td>0</td>\n      <td>0</td>\n      <td>0</td>\n      <td>0</td>\n      <td>0</td>\n      <td>v</td>\n      <td>1</td>\n      <td>0</td>\n      <td>0</td>\n      <td>0</td>\n      <td>0</td>\n      <td>0</td>\n      <td>0</td>\n      <td>0</td>\n      <td>0</td>\n      <td>0</td>\n      <td>0</td>\n      <td>0</td>\n    </tr>\n    <tr>\n      <th>1</th>\n      <td>28830</td>\n      <td>8</td>\n      <td>900</td>\n      <td>2812</td>\n      <td>2</td>\n      <td>10</td>\n      <td>8</td>\n      <td>7</td>\n      <td>o</td>\n      <td>r</td>\n      <td>n</td>\n      <td>x</td>\n      <td>q</td>\n      <td>s</td>\n      <td>d</td>\n      <td>0</td>\n      <td>1</td>\n      <td>0</td>\n      <td>0</td>\n      <td>0</td>\n      <td>0</td>\n      <td>0</td>\n      <td>0</td>\n      <td>0</td>\n      <td>0</td>\n      <td>0</td>\n      <td>v</td>\n      <td>1</td>\n      <td>0</td>\n      <td>0</td>\n      <td>0</td>\n      <td>0</td>\n      <td>0</td>\n      <td>0</td>\n      <td>0</td>\n      <td>0</td>\n      <td>0</td>\n      <td>0</td>\n      <td>0</td>\n    </tr>\n    <tr>\n      <th>2</th>\n      <td>94947</td>\n      <td>21</td>\n      <td>363</td>\n      <td>8973</td>\n      <td>2</td>\n      <td>10</td>\n      <td>5</td>\n      <td>5</td>\n      <td>t</td>\n      <td>r</td>\n      <td>n</td>\n      <td>f</td>\n      <td>x</td>\n      <td>t</td>\n      <td>d</td>\n      <td>0</td>\n      <td>1</td>\n      <td>0</td>\n      <td>0</td>\n      <td>0</td>\n      <td>0</td>\n      <td>0</td>\n      <td>0</td>\n      <td>0</td>\n      <td>0</td>\n      <td>0</td>\n      <td>v</td>\n      <td>1</td>\n      <td>0</td>\n      <td>0</td>\n      <td>0</td>\n      <td>0</td>\n      <td>0</td>\n      <td>0</td>\n      <td>0</td>\n      <td>0</td>\n      <td>0</td>\n      <td>0</td>\n      <td>0</td>\n    </tr>\n    <tr>\n      <th>3</th>\n      <td>590882</td>\n      <td>22</td>\n      <td>418</td>\n      <td>10694</td>\n      <td>2</td>\n      <td>10</td>\n      <td>6</td>\n      <td>5</td>\n      <td>t</td>\n      <td>r</td>\n      <td>n</td>\n      <td>f</td>\n      <td>x</td>\n      <td>s</td>\n      <td>d</td>\n      <td>0</td>\n      <td>1</td>\n      <td>0</td>\n      <td>0</td>\n      <td>0</td>\n      <td>0</td>\n      <td>1</td>\n      <td>1</td>\n      <td>0</td>\n      <td>0</td>\n      <td>0</td>\n      <td>v</td>\n      <td>1</td>\n      <td>0</td>\n      <td>0</td>\n      <td>0</td>\n      <td>0</td>\n      <td>0</td>\n      <td>0</td>\n      <td>0</td>\n      <td>0</td>\n      <td>0</td>\n      <td>0</td>\n      <td>0</td>\n    </tr>\n    <tr>\n      <th>4</th>\n      <td>201944</td>\n      <td>11</td>\n      <td>131</td>\n      <td>1488</td>\n      <td>3</td>\n      <td>30</td>\n      <td>8</td>\n      <td>9</td>\n      <td>t</td>\n      <td>r</td>\n      <td>n</td>\n      <td>f</td>\n      <td>x</td>\n      <td>s</td>\n      <td>d</td>\n      <td>1</td>\n      <td>0</td>\n      <td>0</td>\n      <td>0</td>\n      <td>0</td>\n      <td>0</td>\n      <td>0</td>\n      <td>0</td>\n      <td>0</td>\n      <td>0</td>\n      <td>0</td>\n      <td>v</td>\n      <td>1</td>\n      <td>0</td>\n      <td>0</td>\n      <td>0</td>\n      <td>0</td>\n      <td>0</td>\n      <td>0</td>\n      <td>0</td>\n      <td>0</td>\n      <td>0</td>\n      <td>0</td>\n      <td>0</td>\n    </tr>\n  </tbody>\n</table>\n</div>",
            "text/plain": "   building_id  geo_level_1_id  geo_level_2_id  geo_level_3_id  \\\n0       802906               6             487           12198   \n1        28830               8             900            2812   \n2        94947              21             363            8973   \n3       590882              22             418           10694   \n4       201944              11             131            1488   \n\n   count_floors_pre_eq  age  area_percentage  height_percentage  \\\n0                    2   30                6                  5   \n1                    2   10                8                  7   \n2                    2   10                5                  5   \n3                    2   10                6                  5   \n4                    3   30                8                  9   \n\n  land_surface_condition foundation_type roof_type ground_floor_type  \\\n0                      t               r         n                 f   \n1                      o               r         n                 x   \n2                      t               r         n                 f   \n3                      t               r         n                 f   \n4                      t               r         n                 f   \n\n  other_floor_type position plan_configuration  has_superstructure_adobe_mud  \\\n0                q        t                  d                             1   \n1                q        s                  d                             0   \n2                x        t                  d                             0   \n3                x        s                  d                             0   \n4                x        s                  d                             1   \n\n   has_superstructure_mud_mortar_stone  has_superstructure_stone_flag  \\\n0                                    1                              0   \n1                                    1                              0   \n2                                    1                              0   \n3                                    1                              0   \n4                                    0                              0   \n\n   has_superstructure_cement_mortar_stone  \\\n0                                       0   \n1                                       0   \n2                                       0   \n3                                       0   \n4                                       0   \n\n   has_superstructure_mud_mortar_brick  \\\n0                                    0   \n1                                    0   \n2                                    0   \n3                                    0   \n4                                    0   \n\n   has_superstructure_cement_mortar_brick  has_superstructure_timber  \\\n0                                       0                          0   \n1                                       0                          0   \n2                                       0                          0   \n3                                       0                          1   \n4                                       0                          0   \n\n   has_superstructure_bamboo  has_superstructure_rc_non_engineered  \\\n0                          0                                     0   \n1                          0                                     0   \n2                          0                                     0   \n3                          1                                     0   \n4                          0                                     0   \n\n   has_superstructure_rc_engineered  has_superstructure_other  \\\n0                                 0                         0   \n1                                 0                         0   \n2                                 0                         0   \n3                                 0                         0   \n4                                 0                         0   \n\n  legal_ownership_status  count_families  has_secondary_use  \\\n0                      v               1                  0   \n1                      v               1                  0   \n2                      v               1                  0   \n3                      v               1                  0   \n4                      v               1                  0   \n\n   has_secondary_use_agriculture  has_secondary_use_hotel  \\\n0                              0                        0   \n1                              0                        0   \n2                              0                        0   \n3                              0                        0   \n4                              0                        0   \n\n   has_secondary_use_rental  has_secondary_use_institution  \\\n0                         0                              0   \n1                         0                              0   \n2                         0                              0   \n3                         0                              0   \n4                         0                              0   \n\n   has_secondary_use_school  has_secondary_use_industry  \\\n0                         0                           0   \n1                         0                           0   \n2                         0                           0   \n3                         0                           0   \n4                         0                           0   \n\n   has_secondary_use_health_post  has_secondary_use_gov_office  \\\n0                              0                             0   \n1                              0                             0   \n2                              0                             0   \n3                              0                             0   \n4                              0                             0   \n\n   has_secondary_use_use_police  has_secondary_use_other  \n0                             0                        0  \n1                             0                        0  \n2                             0                        0  \n3                             0                        0  \n4                             0                        0  "
          },
          "metadata": {}
        }
      ]
    },
    {
      "metadata": {
        "trusted": true
      },
      "cell_type": "code",
      "source": "test.head()",
      "execution_count": 4,
      "outputs": [
        {
          "output_type": "execute_result",
          "execution_count": 4,
          "data": {
            "text/html": "<div>\n<style scoped>\n    .dataframe tbody tr th:only-of-type {\n        vertical-align: middle;\n    }\n\n    .dataframe tbody tr th {\n        vertical-align: top;\n    }\n\n    .dataframe thead th {\n        text-align: right;\n    }\n</style>\n<table border=\"1\" class=\"dataframe\">\n  <thead>\n    <tr style=\"text-align: right;\">\n      <th></th>\n      <th>building_id</th>\n      <th>geo_level_1_id</th>\n      <th>geo_level_2_id</th>\n      <th>geo_level_3_id</th>\n      <th>count_floors_pre_eq</th>\n      <th>age</th>\n      <th>area_percentage</th>\n      <th>height_percentage</th>\n      <th>land_surface_condition</th>\n      <th>foundation_type</th>\n      <th>roof_type</th>\n      <th>ground_floor_type</th>\n      <th>other_floor_type</th>\n      <th>position</th>\n      <th>plan_configuration</th>\n      <th>has_superstructure_adobe_mud</th>\n      <th>has_superstructure_mud_mortar_stone</th>\n      <th>has_superstructure_stone_flag</th>\n      <th>has_superstructure_cement_mortar_stone</th>\n      <th>has_superstructure_mud_mortar_brick</th>\n      <th>has_superstructure_cement_mortar_brick</th>\n      <th>has_superstructure_timber</th>\n      <th>has_superstructure_bamboo</th>\n      <th>has_superstructure_rc_non_engineered</th>\n      <th>has_superstructure_rc_engineered</th>\n      <th>has_superstructure_other</th>\n      <th>legal_ownership_status</th>\n      <th>count_families</th>\n      <th>has_secondary_use</th>\n      <th>has_secondary_use_agriculture</th>\n      <th>has_secondary_use_hotel</th>\n      <th>has_secondary_use_rental</th>\n      <th>has_secondary_use_institution</th>\n      <th>has_secondary_use_school</th>\n      <th>has_secondary_use_industry</th>\n      <th>has_secondary_use_health_post</th>\n      <th>has_secondary_use_gov_office</th>\n      <th>has_secondary_use_use_police</th>\n      <th>has_secondary_use_other</th>\n    </tr>\n  </thead>\n  <tbody>\n    <tr>\n      <th>0</th>\n      <td>300051</td>\n      <td>17</td>\n      <td>596</td>\n      <td>11307</td>\n      <td>3</td>\n      <td>20</td>\n      <td>7</td>\n      <td>6</td>\n      <td>t</td>\n      <td>r</td>\n      <td>n</td>\n      <td>f</td>\n      <td>q</td>\n      <td>s</td>\n      <td>d</td>\n      <td>0</td>\n      <td>1</td>\n      <td>0</td>\n      <td>0</td>\n      <td>0</td>\n      <td>0</td>\n      <td>0</td>\n      <td>0</td>\n      <td>0</td>\n      <td>0</td>\n      <td>0</td>\n      <td>v</td>\n      <td>1</td>\n      <td>0</td>\n      <td>0</td>\n      <td>0</td>\n      <td>0</td>\n      <td>0</td>\n      <td>0</td>\n      <td>0</td>\n      <td>0</td>\n      <td>0</td>\n      <td>0</td>\n      <td>0</td>\n    </tr>\n    <tr>\n      <th>1</th>\n      <td>99355</td>\n      <td>6</td>\n      <td>141</td>\n      <td>11987</td>\n      <td>2</td>\n      <td>25</td>\n      <td>13</td>\n      <td>5</td>\n      <td>t</td>\n      <td>r</td>\n      <td>n</td>\n      <td>f</td>\n      <td>q</td>\n      <td>s</td>\n      <td>d</td>\n      <td>0</td>\n      <td>1</td>\n      <td>0</td>\n      <td>0</td>\n      <td>0</td>\n      <td>0</td>\n      <td>0</td>\n      <td>0</td>\n      <td>0</td>\n      <td>0</td>\n      <td>0</td>\n      <td>v</td>\n      <td>1</td>\n      <td>1</td>\n      <td>1</td>\n      <td>0</td>\n      <td>0</td>\n      <td>0</td>\n      <td>0</td>\n      <td>0</td>\n      <td>0</td>\n      <td>0</td>\n      <td>0</td>\n      <td>0</td>\n    </tr>\n    <tr>\n      <th>2</th>\n      <td>890251</td>\n      <td>22</td>\n      <td>19</td>\n      <td>10044</td>\n      <td>2</td>\n      <td>5</td>\n      <td>4</td>\n      <td>5</td>\n      <td>t</td>\n      <td>r</td>\n      <td>n</td>\n      <td>f</td>\n      <td>q</td>\n      <td>s</td>\n      <td>d</td>\n      <td>0</td>\n      <td>1</td>\n      <td>0</td>\n      <td>0</td>\n      <td>0</td>\n      <td>0</td>\n      <td>0</td>\n      <td>0</td>\n      <td>0</td>\n      <td>0</td>\n      <td>0</td>\n      <td>v</td>\n      <td>1</td>\n      <td>0</td>\n      <td>0</td>\n      <td>0</td>\n      <td>0</td>\n      <td>0</td>\n      <td>0</td>\n      <td>0</td>\n      <td>0</td>\n      <td>0</td>\n      <td>0</td>\n      <td>0</td>\n    </tr>\n    <tr>\n      <th>3</th>\n      <td>745817</td>\n      <td>26</td>\n      <td>39</td>\n      <td>633</td>\n      <td>1</td>\n      <td>0</td>\n      <td>19</td>\n      <td>3</td>\n      <td>t</td>\n      <td>r</td>\n      <td>x</td>\n      <td>v</td>\n      <td>j</td>\n      <td>t</td>\n      <td>d</td>\n      <td>0</td>\n      <td>0</td>\n      <td>0</td>\n      <td>0</td>\n      <td>0</td>\n      <td>1</td>\n      <td>0</td>\n      <td>0</td>\n      <td>0</td>\n      <td>0</td>\n      <td>0</td>\n      <td>v</td>\n      <td>2</td>\n      <td>1</td>\n      <td>0</td>\n      <td>0</td>\n      <td>1</td>\n      <td>0</td>\n      <td>0</td>\n      <td>0</td>\n      <td>0</td>\n      <td>0</td>\n      <td>0</td>\n      <td>0</td>\n    </tr>\n    <tr>\n      <th>4</th>\n      <td>421793</td>\n      <td>17</td>\n      <td>289</td>\n      <td>7970</td>\n      <td>3</td>\n      <td>15</td>\n      <td>8</td>\n      <td>7</td>\n      <td>t</td>\n      <td>r</td>\n      <td>q</td>\n      <td>f</td>\n      <td>q</td>\n      <td>t</td>\n      <td>d</td>\n      <td>0</td>\n      <td>1</td>\n      <td>0</td>\n      <td>0</td>\n      <td>0</td>\n      <td>0</td>\n      <td>0</td>\n      <td>0</td>\n      <td>0</td>\n      <td>0</td>\n      <td>0</td>\n      <td>v</td>\n      <td>1</td>\n      <td>0</td>\n      <td>0</td>\n      <td>0</td>\n      <td>0</td>\n      <td>0</td>\n      <td>0</td>\n      <td>0</td>\n      <td>0</td>\n      <td>0</td>\n      <td>0</td>\n      <td>0</td>\n    </tr>\n  </tbody>\n</table>\n</div>",
            "text/plain": "   building_id  geo_level_1_id  geo_level_2_id  geo_level_3_id  \\\n0       300051              17             596           11307   \n1        99355               6             141           11987   \n2       890251              22              19           10044   \n3       745817              26              39             633   \n4       421793              17             289            7970   \n\n   count_floors_pre_eq  age  area_percentage  height_percentage  \\\n0                    3   20                7                  6   \n1                    2   25               13                  5   \n2                    2    5                4                  5   \n3                    1    0               19                  3   \n4                    3   15                8                  7   \n\n  land_surface_condition foundation_type roof_type ground_floor_type  \\\n0                      t               r         n                 f   \n1                      t               r         n                 f   \n2                      t               r         n                 f   \n3                      t               r         x                 v   \n4                      t               r         q                 f   \n\n  other_floor_type position plan_configuration  has_superstructure_adobe_mud  \\\n0                q        s                  d                             0   \n1                q        s                  d                             0   \n2                q        s                  d                             0   \n3                j        t                  d                             0   \n4                q        t                  d                             0   \n\n   has_superstructure_mud_mortar_stone  has_superstructure_stone_flag  \\\n0                                    1                              0   \n1                                    1                              0   \n2                                    1                              0   \n3                                    0                              0   \n4                                    1                              0   \n\n   has_superstructure_cement_mortar_stone  \\\n0                                       0   \n1                                       0   \n2                                       0   \n3                                       0   \n4                                       0   \n\n   has_superstructure_mud_mortar_brick  \\\n0                                    0   \n1                                    0   \n2                                    0   \n3                                    0   \n4                                    0   \n\n   has_superstructure_cement_mortar_brick  has_superstructure_timber  \\\n0                                       0                          0   \n1                                       0                          0   \n2                                       0                          0   \n3                                       1                          0   \n4                                       0                          0   \n\n   has_superstructure_bamboo  has_superstructure_rc_non_engineered  \\\n0                          0                                     0   \n1                          0                                     0   \n2                          0                                     0   \n3                          0                                     0   \n4                          0                                     0   \n\n   has_superstructure_rc_engineered  has_superstructure_other  \\\n0                                 0                         0   \n1                                 0                         0   \n2                                 0                         0   \n3                                 0                         0   \n4                                 0                         0   \n\n  legal_ownership_status  count_families  has_secondary_use  \\\n0                      v               1                  0   \n1                      v               1                  1   \n2                      v               1                  0   \n3                      v               2                  1   \n4                      v               1                  0   \n\n   has_secondary_use_agriculture  has_secondary_use_hotel  \\\n0                              0                        0   \n1                              1                        0   \n2                              0                        0   \n3                              0                        0   \n4                              0                        0   \n\n   has_secondary_use_rental  has_secondary_use_institution  \\\n0                         0                              0   \n1                         0                              0   \n2                         0                              0   \n3                         1                              0   \n4                         0                              0   \n\n   has_secondary_use_school  has_secondary_use_industry  \\\n0                         0                           0   \n1                         0                           0   \n2                         0                           0   \n3                         0                           0   \n4                         0                           0   \n\n   has_secondary_use_health_post  has_secondary_use_gov_office  \\\n0                              0                             0   \n1                              0                             0   \n2                              0                             0   \n3                              0                             0   \n4                              0                             0   \n\n   has_secondary_use_use_police  has_secondary_use_other  \n0                             0                        0  \n1                             0                        0  \n2                             0                        0  \n3                             0                        0  \n4                             0                        0  "
          },
          "metadata": {}
        }
      ]
    },
    {
      "metadata": {},
      "cell_type": "markdown",
      "source": "##### Quick glances with statistical summary"
    },
    {
      "metadata": {
        "trusted": true
      },
      "cell_type": "code",
      "source": "train.info()",
      "execution_count": 5,
      "outputs": [
        {
          "output_type": "stream",
          "text": "<class 'pandas.core.frame.DataFrame'>\nRangeIndex: 260601 entries, 0 to 260600\nData columns (total 39 columns):\nbuilding_id                               260601 non-null int64\ngeo_level_1_id                            260601 non-null int64\ngeo_level_2_id                            260601 non-null int64\ngeo_level_3_id                            260601 non-null int64\ncount_floors_pre_eq                       260601 non-null int64\nage                                       260601 non-null int64\narea_percentage                           260601 non-null int64\nheight_percentage                         260601 non-null int64\nland_surface_condition                    260601 non-null object\nfoundation_type                           260601 non-null object\nroof_type                                 260601 non-null object\nground_floor_type                         260601 non-null object\nother_floor_type                          260601 non-null object\nposition                                  260601 non-null object\nplan_configuration                        260601 non-null object\nhas_superstructure_adobe_mud              260601 non-null int64\nhas_superstructure_mud_mortar_stone       260601 non-null int64\nhas_superstructure_stone_flag             260601 non-null int64\nhas_superstructure_cement_mortar_stone    260601 non-null int64\nhas_superstructure_mud_mortar_brick       260601 non-null int64\nhas_superstructure_cement_mortar_brick    260601 non-null int64\nhas_superstructure_timber                 260601 non-null int64\nhas_superstructure_bamboo                 260601 non-null int64\nhas_superstructure_rc_non_engineered      260601 non-null int64\nhas_superstructure_rc_engineered          260601 non-null int64\nhas_superstructure_other                  260601 non-null int64\nlegal_ownership_status                    260601 non-null object\ncount_families                            260601 non-null int64\nhas_secondary_use                         260601 non-null int64\nhas_secondary_use_agriculture             260601 non-null int64\nhas_secondary_use_hotel                   260601 non-null int64\nhas_secondary_use_rental                  260601 non-null int64\nhas_secondary_use_institution             260601 non-null int64\nhas_secondary_use_school                  260601 non-null int64\nhas_secondary_use_industry                260601 non-null int64\nhas_secondary_use_health_post             260601 non-null int64\nhas_secondary_use_gov_office              260601 non-null int64\nhas_secondary_use_use_police              260601 non-null int64\nhas_secondary_use_other                   260601 non-null int64\ndtypes: int64(31), object(8)\nmemory usage: 77.5+ MB\n",
          "name": "stdout"
        }
      ]
    },
    {
      "metadata": {
        "trusted": true,
        "scrolled": true
      },
      "cell_type": "code",
      "source": "train.describe()",
      "execution_count": 6,
      "outputs": [
        {
          "output_type": "execute_result",
          "execution_count": 6,
          "data": {
            "text/html": "<div>\n<style scoped>\n    .dataframe tbody tr th:only-of-type {\n        vertical-align: middle;\n    }\n\n    .dataframe tbody tr th {\n        vertical-align: top;\n    }\n\n    .dataframe thead th {\n        text-align: right;\n    }\n</style>\n<table border=\"1\" class=\"dataframe\">\n  <thead>\n    <tr style=\"text-align: right;\">\n      <th></th>\n      <th>building_id</th>\n      <th>geo_level_1_id</th>\n      <th>geo_level_2_id</th>\n      <th>geo_level_3_id</th>\n      <th>count_floors_pre_eq</th>\n      <th>age</th>\n      <th>area_percentage</th>\n      <th>height_percentage</th>\n      <th>has_superstructure_adobe_mud</th>\n      <th>has_superstructure_mud_mortar_stone</th>\n      <th>has_superstructure_stone_flag</th>\n      <th>has_superstructure_cement_mortar_stone</th>\n      <th>has_superstructure_mud_mortar_brick</th>\n      <th>has_superstructure_cement_mortar_brick</th>\n      <th>has_superstructure_timber</th>\n      <th>has_superstructure_bamboo</th>\n      <th>has_superstructure_rc_non_engineered</th>\n      <th>has_superstructure_rc_engineered</th>\n      <th>has_superstructure_other</th>\n      <th>count_families</th>\n      <th>has_secondary_use</th>\n      <th>has_secondary_use_agriculture</th>\n      <th>has_secondary_use_hotel</th>\n      <th>has_secondary_use_rental</th>\n      <th>has_secondary_use_institution</th>\n      <th>has_secondary_use_school</th>\n      <th>has_secondary_use_industry</th>\n      <th>has_secondary_use_health_post</th>\n      <th>has_secondary_use_gov_office</th>\n      <th>has_secondary_use_use_police</th>\n      <th>has_secondary_use_other</th>\n    </tr>\n  </thead>\n  <tbody>\n    <tr>\n      <th>count</th>\n      <td>2.606010e+05</td>\n      <td>260601.000000</td>\n      <td>260601.000000</td>\n      <td>260601.000000</td>\n      <td>260601.000000</td>\n      <td>260601.000000</td>\n      <td>260601.000000</td>\n      <td>260601.000000</td>\n      <td>260601.000000</td>\n      <td>260601.000000</td>\n      <td>260601.000000</td>\n      <td>260601.000000</td>\n      <td>260601.000000</td>\n      <td>260601.000000</td>\n      <td>260601.000000</td>\n      <td>260601.000000</td>\n      <td>260601.000000</td>\n      <td>260601.000000</td>\n      <td>260601.000000</td>\n      <td>260601.000000</td>\n      <td>260601.000000</td>\n      <td>260601.000000</td>\n      <td>260601.000000</td>\n      <td>260601.000000</td>\n      <td>260601.000000</td>\n      <td>260601.000000</td>\n      <td>260601.000000</td>\n      <td>260601.000000</td>\n      <td>260601.000000</td>\n      <td>260601.000000</td>\n      <td>260601.000000</td>\n    </tr>\n    <tr>\n      <th>mean</th>\n      <td>5.256755e+05</td>\n      <td>13.900353</td>\n      <td>701.074685</td>\n      <td>6257.876148</td>\n      <td>2.129723</td>\n      <td>26.535029</td>\n      <td>8.018051</td>\n      <td>5.434365</td>\n      <td>0.088645</td>\n      <td>0.761935</td>\n      <td>0.034332</td>\n      <td>0.018235</td>\n      <td>0.068154</td>\n      <td>0.075268</td>\n      <td>0.254988</td>\n      <td>0.085011</td>\n      <td>0.042590</td>\n      <td>0.015859</td>\n      <td>0.014985</td>\n      <td>0.983949</td>\n      <td>0.111880</td>\n      <td>0.064378</td>\n      <td>0.033626</td>\n      <td>0.008101</td>\n      <td>0.000940</td>\n      <td>0.000361</td>\n      <td>0.001071</td>\n      <td>0.000188</td>\n      <td>0.000146</td>\n      <td>0.000088</td>\n      <td>0.005119</td>\n    </tr>\n    <tr>\n      <th>std</th>\n      <td>3.045450e+05</td>\n      <td>8.033617</td>\n      <td>412.710734</td>\n      <td>3646.369645</td>\n      <td>0.727665</td>\n      <td>73.565937</td>\n      <td>4.392231</td>\n      <td>1.918418</td>\n      <td>0.284231</td>\n      <td>0.425900</td>\n      <td>0.182081</td>\n      <td>0.133800</td>\n      <td>0.252010</td>\n      <td>0.263824</td>\n      <td>0.435855</td>\n      <td>0.278899</td>\n      <td>0.201931</td>\n      <td>0.124932</td>\n      <td>0.121491</td>\n      <td>0.418389</td>\n      <td>0.315219</td>\n      <td>0.245426</td>\n      <td>0.180265</td>\n      <td>0.089638</td>\n      <td>0.030647</td>\n      <td>0.018989</td>\n      <td>0.032703</td>\n      <td>0.013711</td>\n      <td>0.012075</td>\n      <td>0.009394</td>\n      <td>0.071364</td>\n    </tr>\n    <tr>\n      <th>min</th>\n      <td>4.000000e+00</td>\n      <td>0.000000</td>\n      <td>0.000000</td>\n      <td>0.000000</td>\n      <td>1.000000</td>\n      <td>0.000000</td>\n      <td>1.000000</td>\n      <td>2.000000</td>\n      <td>0.000000</td>\n      <td>0.000000</td>\n      <td>0.000000</td>\n      <td>0.000000</td>\n      <td>0.000000</td>\n      <td>0.000000</td>\n      <td>0.000000</td>\n      <td>0.000000</td>\n      <td>0.000000</td>\n      <td>0.000000</td>\n      <td>0.000000</td>\n      <td>0.000000</td>\n      <td>0.000000</td>\n      <td>0.000000</td>\n      <td>0.000000</td>\n      <td>0.000000</td>\n      <td>0.000000</td>\n      <td>0.000000</td>\n      <td>0.000000</td>\n      <td>0.000000</td>\n      <td>0.000000</td>\n      <td>0.000000</td>\n      <td>0.000000</td>\n    </tr>\n    <tr>\n      <th>25%</th>\n      <td>2.611900e+05</td>\n      <td>7.000000</td>\n      <td>350.000000</td>\n      <td>3073.000000</td>\n      <td>2.000000</td>\n      <td>10.000000</td>\n      <td>5.000000</td>\n      <td>4.000000</td>\n      <td>0.000000</td>\n      <td>1.000000</td>\n      <td>0.000000</td>\n      <td>0.000000</td>\n      <td>0.000000</td>\n      <td>0.000000</td>\n      <td>0.000000</td>\n      <td>0.000000</td>\n      <td>0.000000</td>\n      <td>0.000000</td>\n      <td>0.000000</td>\n      <td>1.000000</td>\n      <td>0.000000</td>\n      <td>0.000000</td>\n      <td>0.000000</td>\n      <td>0.000000</td>\n      <td>0.000000</td>\n      <td>0.000000</td>\n      <td>0.000000</td>\n      <td>0.000000</td>\n      <td>0.000000</td>\n      <td>0.000000</td>\n      <td>0.000000</td>\n    </tr>\n    <tr>\n      <th>50%</th>\n      <td>5.257570e+05</td>\n      <td>12.000000</td>\n      <td>702.000000</td>\n      <td>6270.000000</td>\n      <td>2.000000</td>\n      <td>15.000000</td>\n      <td>7.000000</td>\n      <td>5.000000</td>\n      <td>0.000000</td>\n      <td>1.000000</td>\n      <td>0.000000</td>\n      <td>0.000000</td>\n      <td>0.000000</td>\n      <td>0.000000</td>\n      <td>0.000000</td>\n      <td>0.000000</td>\n      <td>0.000000</td>\n      <td>0.000000</td>\n      <td>0.000000</td>\n      <td>1.000000</td>\n      <td>0.000000</td>\n      <td>0.000000</td>\n      <td>0.000000</td>\n      <td>0.000000</td>\n      <td>0.000000</td>\n      <td>0.000000</td>\n      <td>0.000000</td>\n      <td>0.000000</td>\n      <td>0.000000</td>\n      <td>0.000000</td>\n      <td>0.000000</td>\n    </tr>\n    <tr>\n      <th>75%</th>\n      <td>7.897620e+05</td>\n      <td>21.000000</td>\n      <td>1050.000000</td>\n      <td>9412.000000</td>\n      <td>2.000000</td>\n      <td>30.000000</td>\n      <td>9.000000</td>\n      <td>6.000000</td>\n      <td>0.000000</td>\n      <td>1.000000</td>\n      <td>0.000000</td>\n      <td>0.000000</td>\n      <td>0.000000</td>\n      <td>0.000000</td>\n      <td>1.000000</td>\n      <td>0.000000</td>\n      <td>0.000000</td>\n      <td>0.000000</td>\n      <td>0.000000</td>\n      <td>1.000000</td>\n      <td>0.000000</td>\n      <td>0.000000</td>\n      <td>0.000000</td>\n      <td>0.000000</td>\n      <td>0.000000</td>\n      <td>0.000000</td>\n      <td>0.000000</td>\n      <td>0.000000</td>\n      <td>0.000000</td>\n      <td>0.000000</td>\n      <td>0.000000</td>\n    </tr>\n    <tr>\n      <th>max</th>\n      <td>1.052934e+06</td>\n      <td>30.000000</td>\n      <td>1427.000000</td>\n      <td>12567.000000</td>\n      <td>9.000000</td>\n      <td>995.000000</td>\n      <td>100.000000</td>\n      <td>32.000000</td>\n      <td>1.000000</td>\n      <td>1.000000</td>\n      <td>1.000000</td>\n      <td>1.000000</td>\n      <td>1.000000</td>\n      <td>1.000000</td>\n      <td>1.000000</td>\n      <td>1.000000</td>\n      <td>1.000000</td>\n      <td>1.000000</td>\n      <td>1.000000</td>\n      <td>9.000000</td>\n      <td>1.000000</td>\n      <td>1.000000</td>\n      <td>1.000000</td>\n      <td>1.000000</td>\n      <td>1.000000</td>\n      <td>1.000000</td>\n      <td>1.000000</td>\n      <td>1.000000</td>\n      <td>1.000000</td>\n      <td>1.000000</td>\n      <td>1.000000</td>\n    </tr>\n  </tbody>\n</table>\n</div>",
            "text/plain": "        building_id  geo_level_1_id  geo_level_2_id  geo_level_3_id  \\\ncount  2.606010e+05   260601.000000   260601.000000   260601.000000   \nmean   5.256755e+05       13.900353      701.074685     6257.876148   \nstd    3.045450e+05        8.033617      412.710734     3646.369645   \nmin    4.000000e+00        0.000000        0.000000        0.000000   \n25%    2.611900e+05        7.000000      350.000000     3073.000000   \n50%    5.257570e+05       12.000000      702.000000     6270.000000   \n75%    7.897620e+05       21.000000     1050.000000     9412.000000   \nmax    1.052934e+06       30.000000     1427.000000    12567.000000   \n\n       count_floors_pre_eq            age  area_percentage  height_percentage  \\\ncount        260601.000000  260601.000000    260601.000000      260601.000000   \nmean              2.129723      26.535029         8.018051           5.434365   \nstd               0.727665      73.565937         4.392231           1.918418   \nmin               1.000000       0.000000         1.000000           2.000000   \n25%               2.000000      10.000000         5.000000           4.000000   \n50%               2.000000      15.000000         7.000000           5.000000   \n75%               2.000000      30.000000         9.000000           6.000000   \nmax               9.000000     995.000000       100.000000          32.000000   \n\n       has_superstructure_adobe_mud  has_superstructure_mud_mortar_stone  \\\ncount                 260601.000000                        260601.000000   \nmean                       0.088645                             0.761935   \nstd                        0.284231                             0.425900   \nmin                        0.000000                             0.000000   \n25%                        0.000000                             1.000000   \n50%                        0.000000                             1.000000   \n75%                        0.000000                             1.000000   \nmax                        1.000000                             1.000000   \n\n       has_superstructure_stone_flag  has_superstructure_cement_mortar_stone  \\\ncount                  260601.000000                           260601.000000   \nmean                        0.034332                                0.018235   \nstd                         0.182081                                0.133800   \nmin                         0.000000                                0.000000   \n25%                         0.000000                                0.000000   \n50%                         0.000000                                0.000000   \n75%                         0.000000                                0.000000   \nmax                         1.000000                                1.000000   \n\n       has_superstructure_mud_mortar_brick  \\\ncount                        260601.000000   \nmean                              0.068154   \nstd                               0.252010   \nmin                               0.000000   \n25%                               0.000000   \n50%                               0.000000   \n75%                               0.000000   \nmax                               1.000000   \n\n       has_superstructure_cement_mortar_brick  has_superstructure_timber  \\\ncount                           260601.000000              260601.000000   \nmean                                 0.075268                   0.254988   \nstd                                  0.263824                   0.435855   \nmin                                  0.000000                   0.000000   \n25%                                  0.000000                   0.000000   \n50%                                  0.000000                   0.000000   \n75%                                  0.000000                   1.000000   \nmax                                  1.000000                   1.000000   \n\n       has_superstructure_bamboo  has_superstructure_rc_non_engineered  \\\ncount              260601.000000                         260601.000000   \nmean                    0.085011                              0.042590   \nstd                     0.278899                              0.201931   \nmin                     0.000000                              0.000000   \n25%                     0.000000                              0.000000   \n50%                     0.000000                              0.000000   \n75%                     0.000000                              0.000000   \nmax                     1.000000                              1.000000   \n\n       has_superstructure_rc_engineered  has_superstructure_other  \\\ncount                     260601.000000             260601.000000   \nmean                           0.015859                  0.014985   \nstd                            0.124932                  0.121491   \nmin                            0.000000                  0.000000   \n25%                            0.000000                  0.000000   \n50%                            0.000000                  0.000000   \n75%                            0.000000                  0.000000   \nmax                            1.000000                  1.000000   \n\n       count_families  has_secondary_use  has_secondary_use_agriculture  \\\ncount   260601.000000      260601.000000                  260601.000000   \nmean         0.983949           0.111880                       0.064378   \nstd          0.418389           0.315219                       0.245426   \nmin          0.000000           0.000000                       0.000000   \n25%          1.000000           0.000000                       0.000000   \n50%          1.000000           0.000000                       0.000000   \n75%          1.000000           0.000000                       0.000000   \nmax          9.000000           1.000000                       1.000000   \n\n       has_secondary_use_hotel  has_secondary_use_rental  \\\ncount            260601.000000             260601.000000   \nmean                  0.033626                  0.008101   \nstd                   0.180265                  0.089638   \nmin                   0.000000                  0.000000   \n25%                   0.000000                  0.000000   \n50%                   0.000000                  0.000000   \n75%                   0.000000                  0.000000   \nmax                   1.000000                  1.000000   \n\n       has_secondary_use_institution  has_secondary_use_school  \\\ncount                  260601.000000             260601.000000   \nmean                        0.000940                  0.000361   \nstd                         0.030647                  0.018989   \nmin                         0.000000                  0.000000   \n25%                         0.000000                  0.000000   \n50%                         0.000000                  0.000000   \n75%                         0.000000                  0.000000   \nmax                         1.000000                  1.000000   \n\n       has_secondary_use_industry  has_secondary_use_health_post  \\\ncount               260601.000000                  260601.000000   \nmean                     0.001071                       0.000188   \nstd                      0.032703                       0.013711   \nmin                      0.000000                       0.000000   \n25%                      0.000000                       0.000000   \n50%                      0.000000                       0.000000   \n75%                      0.000000                       0.000000   \nmax                      1.000000                       1.000000   \n\n       has_secondary_use_gov_office  has_secondary_use_use_police  \\\ncount                 260601.000000                 260601.000000   \nmean                       0.000146                      0.000088   \nstd                        0.012075                      0.009394   \nmin                        0.000000                      0.000000   \n25%                        0.000000                      0.000000   \n50%                        0.000000                      0.000000   \n75%                        0.000000                      0.000000   \nmax                        1.000000                      1.000000   \n\n       has_secondary_use_other  \ncount            260601.000000  \nmean                  0.005119  \nstd                   0.071364  \nmin                   0.000000  \n25%                   0.000000  \n50%                   0.000000  \n75%                   0.000000  \nmax                   1.000000  "
          },
          "metadata": {}
        }
      ]
    },
    {
      "metadata": {
        "trusted": true
      },
      "cell_type": "code",
      "source": "test.info()",
      "execution_count": 7,
      "outputs": [
        {
          "output_type": "stream",
          "text": "<class 'pandas.core.frame.DataFrame'>\nRangeIndex: 86868 entries, 0 to 86867\nData columns (total 39 columns):\nbuilding_id                               86868 non-null int64\ngeo_level_1_id                            86868 non-null int64\ngeo_level_2_id                            86868 non-null int64\ngeo_level_3_id                            86868 non-null int64\ncount_floors_pre_eq                       86868 non-null int64\nage                                       86868 non-null int64\narea_percentage                           86868 non-null int64\nheight_percentage                         86868 non-null int64\nland_surface_condition                    86868 non-null object\nfoundation_type                           86868 non-null object\nroof_type                                 86868 non-null object\nground_floor_type                         86868 non-null object\nother_floor_type                          86868 non-null object\nposition                                  86868 non-null object\nplan_configuration                        86868 non-null object\nhas_superstructure_adobe_mud              86868 non-null int64\nhas_superstructure_mud_mortar_stone       86868 non-null int64\nhas_superstructure_stone_flag             86868 non-null int64\nhas_superstructure_cement_mortar_stone    86868 non-null int64\nhas_superstructure_mud_mortar_brick       86868 non-null int64\nhas_superstructure_cement_mortar_brick    86868 non-null int64\nhas_superstructure_timber                 86868 non-null int64\nhas_superstructure_bamboo                 86868 non-null int64\nhas_superstructure_rc_non_engineered      86868 non-null int64\nhas_superstructure_rc_engineered          86868 non-null int64\nhas_superstructure_other                  86868 non-null int64\nlegal_ownership_status                    86868 non-null object\ncount_families                            86868 non-null int64\nhas_secondary_use                         86868 non-null int64\nhas_secondary_use_agriculture             86868 non-null int64\nhas_secondary_use_hotel                   86868 non-null int64\nhas_secondary_use_rental                  86868 non-null int64\nhas_secondary_use_institution             86868 non-null int64\nhas_secondary_use_school                  86868 non-null int64\nhas_secondary_use_industry                86868 non-null int64\nhas_secondary_use_health_post             86868 non-null int64\nhas_secondary_use_gov_office              86868 non-null int64\nhas_secondary_use_use_police              86868 non-null int64\nhas_secondary_use_other                   86868 non-null int64\ndtypes: int64(31), object(8)\nmemory usage: 25.8+ MB\n",
          "name": "stdout"
        }
      ]
    },
    {
      "metadata": {
        "trusted": true
      },
      "cell_type": "code",
      "source": "test.describe()",
      "execution_count": 8,
      "outputs": [
        {
          "output_type": "execute_result",
          "execution_count": 8,
          "data": {
            "text/html": "<div>\n<style scoped>\n    .dataframe tbody tr th:only-of-type {\n        vertical-align: middle;\n    }\n\n    .dataframe tbody tr th {\n        vertical-align: top;\n    }\n\n    .dataframe thead th {\n        text-align: right;\n    }\n</style>\n<table border=\"1\" class=\"dataframe\">\n  <thead>\n    <tr style=\"text-align: right;\">\n      <th></th>\n      <th>building_id</th>\n      <th>geo_level_1_id</th>\n      <th>geo_level_2_id</th>\n      <th>geo_level_3_id</th>\n      <th>count_floors_pre_eq</th>\n      <th>age</th>\n      <th>area_percentage</th>\n      <th>height_percentage</th>\n      <th>has_superstructure_adobe_mud</th>\n      <th>has_superstructure_mud_mortar_stone</th>\n      <th>has_superstructure_stone_flag</th>\n      <th>has_superstructure_cement_mortar_stone</th>\n      <th>has_superstructure_mud_mortar_brick</th>\n      <th>has_superstructure_cement_mortar_brick</th>\n      <th>has_superstructure_timber</th>\n      <th>has_superstructure_bamboo</th>\n      <th>has_superstructure_rc_non_engineered</th>\n      <th>has_superstructure_rc_engineered</th>\n      <th>has_superstructure_other</th>\n      <th>count_families</th>\n      <th>has_secondary_use</th>\n      <th>has_secondary_use_agriculture</th>\n      <th>has_secondary_use_hotel</th>\n      <th>has_secondary_use_rental</th>\n      <th>has_secondary_use_institution</th>\n      <th>has_secondary_use_school</th>\n      <th>has_secondary_use_industry</th>\n      <th>has_secondary_use_health_post</th>\n      <th>has_secondary_use_gov_office</th>\n      <th>has_secondary_use_use_police</th>\n      <th>has_secondary_use_other</th>\n    </tr>\n  </thead>\n  <tbody>\n    <tr>\n      <th>count</th>\n      <td>8.686800e+04</td>\n      <td>86868.000000</td>\n      <td>86868.000000</td>\n      <td>86868.000000</td>\n      <td>86868.000000</td>\n      <td>86868.000000</td>\n      <td>86868.000000</td>\n      <td>86868.000000</td>\n      <td>86868.000000</td>\n      <td>86868.000000</td>\n      <td>86868.000000</td>\n      <td>86868.000000</td>\n      <td>86868.000000</td>\n      <td>86868.000000</td>\n      <td>86868.000000</td>\n      <td>86868.000000</td>\n      <td>86868.000000</td>\n      <td>86868.000000</td>\n      <td>86868.000000</td>\n      <td>86868.000000</td>\n      <td>86868.000000</td>\n      <td>86868.000000</td>\n      <td>86868.000000</td>\n      <td>86868.000000</td>\n      <td>86868.000000</td>\n      <td>86868.000000</td>\n      <td>86868.000000</td>\n      <td>86868.000000</td>\n      <td>86868.000000</td>\n      <td>86868.000000</td>\n      <td>86868.000000</td>\n    </tr>\n    <tr>\n      <th>mean</th>\n      <td>5.266279e+05</td>\n      <td>13.888198</td>\n      <td>704.128125</td>\n      <td>6261.758565</td>\n      <td>2.133145</td>\n      <td>26.550168</td>\n      <td>8.013906</td>\n      <td>5.436098</td>\n      <td>0.089953</td>\n      <td>0.762502</td>\n      <td>0.034466</td>\n      <td>0.018568</td>\n      <td>0.067459</td>\n      <td>0.073836</td>\n      <td>0.253534</td>\n      <td>0.083679</td>\n      <td>0.042501</td>\n      <td>0.015794</td>\n      <td>0.015207</td>\n      <td>0.983112</td>\n      <td>0.111468</td>\n      <td>0.064097</td>\n      <td>0.033867</td>\n      <td>0.008242</td>\n      <td>0.001013</td>\n      <td>0.000368</td>\n      <td>0.001002</td>\n      <td>0.000104</td>\n      <td>0.000115</td>\n      <td>0.000046</td>\n      <td>0.004904</td>\n    </tr>\n    <tr>\n      <th>std</th>\n      <td>3.037828e+05</td>\n      <td>8.029576</td>\n      <td>413.364015</td>\n      <td>3648.712191</td>\n      <td>0.728047</td>\n      <td>73.413489</td>\n      <td>4.377899</td>\n      <td>1.906950</td>\n      <td>0.286115</td>\n      <td>0.425552</td>\n      <td>0.182424</td>\n      <td>0.134996</td>\n      <td>0.250816</td>\n      <td>0.261506</td>\n      <td>0.435036</td>\n      <td>0.276907</td>\n      <td>0.201731</td>\n      <td>0.124679</td>\n      <td>0.122376</td>\n      <td>0.422363</td>\n      <td>0.314713</td>\n      <td>0.244928</td>\n      <td>0.180889</td>\n      <td>0.090413</td>\n      <td>0.031812</td>\n      <td>0.019190</td>\n      <td>0.031631</td>\n      <td>0.010178</td>\n      <td>0.010729</td>\n      <td>0.006786</td>\n      <td>0.069857</td>\n    </tr>\n    <tr>\n      <th>min</th>\n      <td>7.000000e+00</td>\n      <td>0.000000</td>\n      <td>0.000000</td>\n      <td>0.000000</td>\n      <td>1.000000</td>\n      <td>0.000000</td>\n      <td>1.000000</td>\n      <td>2.000000</td>\n      <td>0.000000</td>\n      <td>0.000000</td>\n      <td>0.000000</td>\n      <td>0.000000</td>\n      <td>0.000000</td>\n      <td>0.000000</td>\n      <td>0.000000</td>\n      <td>0.000000</td>\n      <td>0.000000</td>\n      <td>0.000000</td>\n      <td>0.000000</td>\n      <td>0.000000</td>\n      <td>0.000000</td>\n      <td>0.000000</td>\n      <td>0.000000</td>\n      <td>0.000000</td>\n      <td>0.000000</td>\n      <td>0.000000</td>\n      <td>0.000000</td>\n      <td>0.000000</td>\n      <td>0.000000</td>\n      <td>0.000000</td>\n      <td>0.000000</td>\n    </tr>\n    <tr>\n      <th>25%</th>\n      <td>2.644215e+05</td>\n      <td>7.000000</td>\n      <td>350.000000</td>\n      <td>3073.000000</td>\n      <td>2.000000</td>\n      <td>10.000000</td>\n      <td>5.000000</td>\n      <td>4.000000</td>\n      <td>0.000000</td>\n      <td>1.000000</td>\n      <td>0.000000</td>\n      <td>0.000000</td>\n      <td>0.000000</td>\n      <td>0.000000</td>\n      <td>0.000000</td>\n      <td>0.000000</td>\n      <td>0.000000</td>\n      <td>0.000000</td>\n      <td>0.000000</td>\n      <td>1.000000</td>\n      <td>0.000000</td>\n      <td>0.000000</td>\n      <td>0.000000</td>\n      <td>0.000000</td>\n      <td>0.000000</td>\n      <td>0.000000</td>\n      <td>0.000000</td>\n      <td>0.000000</td>\n      <td>0.000000</td>\n      <td>0.000000</td>\n      <td>0.000000</td>\n    </tr>\n    <tr>\n      <th>50%</th>\n      <td>5.269835e+05</td>\n      <td>12.000000</td>\n      <td>709.000000</td>\n      <td>6276.000000</td>\n      <td>2.000000</td>\n      <td>15.000000</td>\n      <td>7.000000</td>\n      <td>5.000000</td>\n      <td>0.000000</td>\n      <td>1.000000</td>\n      <td>0.000000</td>\n      <td>0.000000</td>\n      <td>0.000000</td>\n      <td>0.000000</td>\n      <td>0.000000</td>\n      <td>0.000000</td>\n      <td>0.000000</td>\n      <td>0.000000</td>\n      <td>0.000000</td>\n      <td>1.000000</td>\n      <td>0.000000</td>\n      <td>0.000000</td>\n      <td>0.000000</td>\n      <td>0.000000</td>\n      <td>0.000000</td>\n      <td>0.000000</td>\n      <td>0.000000</td>\n      <td>0.000000</td>\n      <td>0.000000</td>\n      <td>0.000000</td>\n      <td>0.000000</td>\n    </tr>\n    <tr>\n      <th>75%</th>\n      <td>7.890842e+05</td>\n      <td>21.000000</td>\n      <td>1054.000000</td>\n      <td>9416.000000</td>\n      <td>2.000000</td>\n      <td>30.000000</td>\n      <td>9.000000</td>\n      <td>6.000000</td>\n      <td>0.000000</td>\n      <td>1.000000</td>\n      <td>0.000000</td>\n      <td>0.000000</td>\n      <td>0.000000</td>\n      <td>0.000000</td>\n      <td>1.000000</td>\n      <td>0.000000</td>\n      <td>0.000000</td>\n      <td>0.000000</td>\n      <td>0.000000</td>\n      <td>1.000000</td>\n      <td>0.000000</td>\n      <td>0.000000</td>\n      <td>0.000000</td>\n      <td>0.000000</td>\n      <td>0.000000</td>\n      <td>0.000000</td>\n      <td>0.000000</td>\n      <td>0.000000</td>\n      <td>0.000000</td>\n      <td>0.000000</td>\n      <td>0.000000</td>\n    </tr>\n    <tr>\n      <th>max</th>\n      <td>1.052923e+06</td>\n      <td>30.000000</td>\n      <td>1427.000000</td>\n      <td>12567.000000</td>\n      <td>8.000000</td>\n      <td>995.000000</td>\n      <td>92.000000</td>\n      <td>32.000000</td>\n      <td>1.000000</td>\n      <td>1.000000</td>\n      <td>1.000000</td>\n      <td>1.000000</td>\n      <td>1.000000</td>\n      <td>1.000000</td>\n      <td>1.000000</td>\n      <td>1.000000</td>\n      <td>1.000000</td>\n      <td>1.000000</td>\n      <td>1.000000</td>\n      <td>8.000000</td>\n      <td>1.000000</td>\n      <td>1.000000</td>\n      <td>1.000000</td>\n      <td>1.000000</td>\n      <td>1.000000</td>\n      <td>1.000000</td>\n      <td>1.000000</td>\n      <td>1.000000</td>\n      <td>1.000000</td>\n      <td>1.000000</td>\n      <td>1.000000</td>\n    </tr>\n  </tbody>\n</table>\n</div>",
            "text/plain": "        building_id  geo_level_1_id  geo_level_2_id  geo_level_3_id  \\\ncount  8.686800e+04    86868.000000    86868.000000    86868.000000   \nmean   5.266279e+05       13.888198      704.128125     6261.758565   \nstd    3.037828e+05        8.029576      413.364015     3648.712191   \nmin    7.000000e+00        0.000000        0.000000        0.000000   \n25%    2.644215e+05        7.000000      350.000000     3073.000000   \n50%    5.269835e+05       12.000000      709.000000     6276.000000   \n75%    7.890842e+05       21.000000     1054.000000     9416.000000   \nmax    1.052923e+06       30.000000     1427.000000    12567.000000   \n\n       count_floors_pre_eq           age  area_percentage  height_percentage  \\\ncount         86868.000000  86868.000000     86868.000000       86868.000000   \nmean              2.133145     26.550168         8.013906           5.436098   \nstd               0.728047     73.413489         4.377899           1.906950   \nmin               1.000000      0.000000         1.000000           2.000000   \n25%               2.000000     10.000000         5.000000           4.000000   \n50%               2.000000     15.000000         7.000000           5.000000   \n75%               2.000000     30.000000         9.000000           6.000000   \nmax               8.000000    995.000000        92.000000          32.000000   \n\n       has_superstructure_adobe_mud  has_superstructure_mud_mortar_stone  \\\ncount                  86868.000000                         86868.000000   \nmean                       0.089953                             0.762502   \nstd                        0.286115                             0.425552   \nmin                        0.000000                             0.000000   \n25%                        0.000000                             1.000000   \n50%                        0.000000                             1.000000   \n75%                        0.000000                             1.000000   \nmax                        1.000000                             1.000000   \n\n       has_superstructure_stone_flag  has_superstructure_cement_mortar_stone  \\\ncount                   86868.000000                            86868.000000   \nmean                        0.034466                                0.018568   \nstd                         0.182424                                0.134996   \nmin                         0.000000                                0.000000   \n25%                         0.000000                                0.000000   \n50%                         0.000000                                0.000000   \n75%                         0.000000                                0.000000   \nmax                         1.000000                                1.000000   \n\n       has_superstructure_mud_mortar_brick  \\\ncount                         86868.000000   \nmean                              0.067459   \nstd                               0.250816   \nmin                               0.000000   \n25%                               0.000000   \n50%                               0.000000   \n75%                               0.000000   \nmax                               1.000000   \n\n       has_superstructure_cement_mortar_brick  has_superstructure_timber  \\\ncount                            86868.000000               86868.000000   \nmean                                 0.073836                   0.253534   \nstd                                  0.261506                   0.435036   \nmin                                  0.000000                   0.000000   \n25%                                  0.000000                   0.000000   \n50%                                  0.000000                   0.000000   \n75%                                  0.000000                   1.000000   \nmax                                  1.000000                   1.000000   \n\n       has_superstructure_bamboo  has_superstructure_rc_non_engineered  \\\ncount               86868.000000                          86868.000000   \nmean                    0.083679                              0.042501   \nstd                     0.276907                              0.201731   \nmin                     0.000000                              0.000000   \n25%                     0.000000                              0.000000   \n50%                     0.000000                              0.000000   \n75%                     0.000000                              0.000000   \nmax                     1.000000                              1.000000   \n\n       has_superstructure_rc_engineered  has_superstructure_other  \\\ncount                      86868.000000              86868.000000   \nmean                           0.015794                  0.015207   \nstd                            0.124679                  0.122376   \nmin                            0.000000                  0.000000   \n25%                            0.000000                  0.000000   \n50%                            0.000000                  0.000000   \n75%                            0.000000                  0.000000   \nmax                            1.000000                  1.000000   \n\n       count_families  has_secondary_use  has_secondary_use_agriculture  \\\ncount    86868.000000       86868.000000                   86868.000000   \nmean         0.983112           0.111468                       0.064097   \nstd          0.422363           0.314713                       0.244928   \nmin          0.000000           0.000000                       0.000000   \n25%          1.000000           0.000000                       0.000000   \n50%          1.000000           0.000000                       0.000000   \n75%          1.000000           0.000000                       0.000000   \nmax          8.000000           1.000000                       1.000000   \n\n       has_secondary_use_hotel  has_secondary_use_rental  \\\ncount             86868.000000              86868.000000   \nmean                  0.033867                  0.008242   \nstd                   0.180889                  0.090413   \nmin                   0.000000                  0.000000   \n25%                   0.000000                  0.000000   \n50%                   0.000000                  0.000000   \n75%                   0.000000                  0.000000   \nmax                   1.000000                  1.000000   \n\n       has_secondary_use_institution  has_secondary_use_school  \\\ncount                   86868.000000              86868.000000   \nmean                        0.001013                  0.000368   \nstd                         0.031812                  0.019190   \nmin                         0.000000                  0.000000   \n25%                         0.000000                  0.000000   \n50%                         0.000000                  0.000000   \n75%                         0.000000                  0.000000   \nmax                         1.000000                  1.000000   \n\n       has_secondary_use_industry  has_secondary_use_health_post  \\\ncount                86868.000000                   86868.000000   \nmean                     0.001002                       0.000104   \nstd                      0.031631                       0.010178   \nmin                      0.000000                       0.000000   \n25%                      0.000000                       0.000000   \n50%                      0.000000                       0.000000   \n75%                      0.000000                       0.000000   \nmax                      1.000000                       1.000000   \n\n       has_secondary_use_gov_office  has_secondary_use_use_police  \\\ncount                  86868.000000                  86868.000000   \nmean                       0.000115                      0.000046   \nstd                        0.010729                      0.006786   \nmin                        0.000000                      0.000000   \n25%                        0.000000                      0.000000   \n50%                        0.000000                      0.000000   \n75%                        0.000000                      0.000000   \nmax                        1.000000                      1.000000   \n\n       has_secondary_use_other  \ncount             86868.000000  \nmean                  0.004904  \nstd                   0.069857  \nmin                   0.000000  \n25%                   0.000000  \n50%                   0.000000  \n75%                   0.000000  \nmax                   1.000000  "
          },
          "metadata": {}
        }
      ]
    },
    {
      "metadata": {},
      "cell_type": "markdown",
      "source": "There seems to be no missing values in the training or testing set because every column has the same amount of rows as the total rows.  \n\nWe can now create a new dataframe with the training values and training labels combined."
    },
    {
      "metadata": {
        "trusted": true
      },
      "cell_type": "code",
      "source": "train_df = pd.merge(train, label, how='inner', on='building_id')",
      "execution_count": 9,
      "outputs": []
    },
    {
      "metadata": {
        "trusted": true
      },
      "cell_type": "code",
      "source": "train_df.head()",
      "execution_count": 10,
      "outputs": [
        {
          "output_type": "execute_result",
          "execution_count": 10,
          "data": {
            "text/html": "<div>\n<style scoped>\n    .dataframe tbody tr th:only-of-type {\n        vertical-align: middle;\n    }\n\n    .dataframe tbody tr th {\n        vertical-align: top;\n    }\n\n    .dataframe thead th {\n        text-align: right;\n    }\n</style>\n<table border=\"1\" class=\"dataframe\">\n  <thead>\n    <tr style=\"text-align: right;\">\n      <th></th>\n      <th>building_id</th>\n      <th>geo_level_1_id</th>\n      <th>geo_level_2_id</th>\n      <th>geo_level_3_id</th>\n      <th>count_floors_pre_eq</th>\n      <th>age</th>\n      <th>area_percentage</th>\n      <th>height_percentage</th>\n      <th>land_surface_condition</th>\n      <th>foundation_type</th>\n      <th>roof_type</th>\n      <th>ground_floor_type</th>\n      <th>other_floor_type</th>\n      <th>position</th>\n      <th>plan_configuration</th>\n      <th>has_superstructure_adobe_mud</th>\n      <th>has_superstructure_mud_mortar_stone</th>\n      <th>has_superstructure_stone_flag</th>\n      <th>has_superstructure_cement_mortar_stone</th>\n      <th>has_superstructure_mud_mortar_brick</th>\n      <th>has_superstructure_cement_mortar_brick</th>\n      <th>has_superstructure_timber</th>\n      <th>has_superstructure_bamboo</th>\n      <th>has_superstructure_rc_non_engineered</th>\n      <th>has_superstructure_rc_engineered</th>\n      <th>has_superstructure_other</th>\n      <th>legal_ownership_status</th>\n      <th>count_families</th>\n      <th>has_secondary_use</th>\n      <th>has_secondary_use_agriculture</th>\n      <th>has_secondary_use_hotel</th>\n      <th>has_secondary_use_rental</th>\n      <th>has_secondary_use_institution</th>\n      <th>has_secondary_use_school</th>\n      <th>has_secondary_use_industry</th>\n      <th>has_secondary_use_health_post</th>\n      <th>has_secondary_use_gov_office</th>\n      <th>has_secondary_use_use_police</th>\n      <th>has_secondary_use_other</th>\n      <th>damage_grade</th>\n    </tr>\n  </thead>\n  <tbody>\n    <tr>\n      <th>0</th>\n      <td>802906</td>\n      <td>6</td>\n      <td>487</td>\n      <td>12198</td>\n      <td>2</td>\n      <td>30</td>\n      <td>6</td>\n      <td>5</td>\n      <td>t</td>\n      <td>r</td>\n      <td>n</td>\n      <td>f</td>\n      <td>q</td>\n      <td>t</td>\n      <td>d</td>\n      <td>1</td>\n      <td>1</td>\n      <td>0</td>\n      <td>0</td>\n      <td>0</td>\n      <td>0</td>\n      <td>0</td>\n      <td>0</td>\n      <td>0</td>\n      <td>0</td>\n      <td>0</td>\n      <td>v</td>\n      <td>1</td>\n      <td>0</td>\n      <td>0</td>\n      <td>0</td>\n      <td>0</td>\n      <td>0</td>\n      <td>0</td>\n      <td>0</td>\n      <td>0</td>\n      <td>0</td>\n      <td>0</td>\n      <td>0</td>\n      <td>3</td>\n    </tr>\n    <tr>\n      <th>1</th>\n      <td>28830</td>\n      <td>8</td>\n      <td>900</td>\n      <td>2812</td>\n      <td>2</td>\n      <td>10</td>\n      <td>8</td>\n      <td>7</td>\n      <td>o</td>\n      <td>r</td>\n      <td>n</td>\n      <td>x</td>\n      <td>q</td>\n      <td>s</td>\n      <td>d</td>\n      <td>0</td>\n      <td>1</td>\n      <td>0</td>\n      <td>0</td>\n      <td>0</td>\n      <td>0</td>\n      <td>0</td>\n      <td>0</td>\n      <td>0</td>\n      <td>0</td>\n      <td>0</td>\n      <td>v</td>\n      <td>1</td>\n      <td>0</td>\n      <td>0</td>\n      <td>0</td>\n      <td>0</td>\n      <td>0</td>\n      <td>0</td>\n      <td>0</td>\n      <td>0</td>\n      <td>0</td>\n      <td>0</td>\n      <td>0</td>\n      <td>2</td>\n    </tr>\n    <tr>\n      <th>2</th>\n      <td>94947</td>\n      <td>21</td>\n      <td>363</td>\n      <td>8973</td>\n      <td>2</td>\n      <td>10</td>\n      <td>5</td>\n      <td>5</td>\n      <td>t</td>\n      <td>r</td>\n      <td>n</td>\n      <td>f</td>\n      <td>x</td>\n      <td>t</td>\n      <td>d</td>\n      <td>0</td>\n      <td>1</td>\n      <td>0</td>\n      <td>0</td>\n      <td>0</td>\n      <td>0</td>\n      <td>0</td>\n      <td>0</td>\n      <td>0</td>\n      <td>0</td>\n      <td>0</td>\n      <td>v</td>\n      <td>1</td>\n      <td>0</td>\n      <td>0</td>\n      <td>0</td>\n      <td>0</td>\n      <td>0</td>\n      <td>0</td>\n      <td>0</td>\n      <td>0</td>\n      <td>0</td>\n      <td>0</td>\n      <td>0</td>\n      <td>3</td>\n    </tr>\n    <tr>\n      <th>3</th>\n      <td>590882</td>\n      <td>22</td>\n      <td>418</td>\n      <td>10694</td>\n      <td>2</td>\n      <td>10</td>\n      <td>6</td>\n      <td>5</td>\n      <td>t</td>\n      <td>r</td>\n      <td>n</td>\n      <td>f</td>\n      <td>x</td>\n      <td>s</td>\n      <td>d</td>\n      <td>0</td>\n      <td>1</td>\n      <td>0</td>\n      <td>0</td>\n      <td>0</td>\n      <td>0</td>\n      <td>1</td>\n      <td>1</td>\n      <td>0</td>\n      <td>0</td>\n      <td>0</td>\n      <td>v</td>\n      <td>1</td>\n      <td>0</td>\n      <td>0</td>\n      <td>0</td>\n      <td>0</td>\n      <td>0</td>\n      <td>0</td>\n      <td>0</td>\n      <td>0</td>\n      <td>0</td>\n      <td>0</td>\n      <td>0</td>\n      <td>2</td>\n    </tr>\n    <tr>\n      <th>4</th>\n      <td>201944</td>\n      <td>11</td>\n      <td>131</td>\n      <td>1488</td>\n      <td>3</td>\n      <td>30</td>\n      <td>8</td>\n      <td>9</td>\n      <td>t</td>\n      <td>r</td>\n      <td>n</td>\n      <td>f</td>\n      <td>x</td>\n      <td>s</td>\n      <td>d</td>\n      <td>1</td>\n      <td>0</td>\n      <td>0</td>\n      <td>0</td>\n      <td>0</td>\n      <td>0</td>\n      <td>0</td>\n      <td>0</td>\n      <td>0</td>\n      <td>0</td>\n      <td>0</td>\n      <td>v</td>\n      <td>1</td>\n      <td>0</td>\n      <td>0</td>\n      <td>0</td>\n      <td>0</td>\n      <td>0</td>\n      <td>0</td>\n      <td>0</td>\n      <td>0</td>\n      <td>0</td>\n      <td>0</td>\n      <td>0</td>\n      <td>3</td>\n    </tr>\n  </tbody>\n</table>\n</div>",
            "text/plain": "   building_id  geo_level_1_id  geo_level_2_id  geo_level_3_id  \\\n0       802906               6             487           12198   \n1        28830               8             900            2812   \n2        94947              21             363            8973   \n3       590882              22             418           10694   \n4       201944              11             131            1488   \n\n   count_floors_pre_eq  age  area_percentage  height_percentage  \\\n0                    2   30                6                  5   \n1                    2   10                8                  7   \n2                    2   10                5                  5   \n3                    2   10                6                  5   \n4                    3   30                8                  9   \n\n  land_surface_condition foundation_type roof_type ground_floor_type  \\\n0                      t               r         n                 f   \n1                      o               r         n                 x   \n2                      t               r         n                 f   \n3                      t               r         n                 f   \n4                      t               r         n                 f   \n\n  other_floor_type position plan_configuration  has_superstructure_adobe_mud  \\\n0                q        t                  d                             1   \n1                q        s                  d                             0   \n2                x        t                  d                             0   \n3                x        s                  d                             0   \n4                x        s                  d                             1   \n\n   has_superstructure_mud_mortar_stone  has_superstructure_stone_flag  \\\n0                                    1                              0   \n1                                    1                              0   \n2                                    1                              0   \n3                                    1                              0   \n4                                    0                              0   \n\n   has_superstructure_cement_mortar_stone  \\\n0                                       0   \n1                                       0   \n2                                       0   \n3                                       0   \n4                                       0   \n\n   has_superstructure_mud_mortar_brick  \\\n0                                    0   \n1                                    0   \n2                                    0   \n3                                    0   \n4                                    0   \n\n   has_superstructure_cement_mortar_brick  has_superstructure_timber  \\\n0                                       0                          0   \n1                                       0                          0   \n2                                       0                          0   \n3                                       0                          1   \n4                                       0                          0   \n\n   has_superstructure_bamboo  has_superstructure_rc_non_engineered  \\\n0                          0                                     0   \n1                          0                                     0   \n2                          0                                     0   \n3                          1                                     0   \n4                          0                                     0   \n\n   has_superstructure_rc_engineered  has_superstructure_other  \\\n0                                 0                         0   \n1                                 0                         0   \n2                                 0                         0   \n3                                 0                         0   \n4                                 0                         0   \n\n  legal_ownership_status  count_families  has_secondary_use  \\\n0                      v               1                  0   \n1                      v               1                  0   \n2                      v               1                  0   \n3                      v               1                  0   \n4                      v               1                  0   \n\n   has_secondary_use_agriculture  has_secondary_use_hotel  \\\n0                              0                        0   \n1                              0                        0   \n2                              0                        0   \n3                              0                        0   \n4                              0                        0   \n\n   has_secondary_use_rental  has_secondary_use_institution  \\\n0                         0                              0   \n1                         0                              0   \n2                         0                              0   \n3                         0                              0   \n4                         0                              0   \n\n   has_secondary_use_school  has_secondary_use_industry  \\\n0                         0                           0   \n1                         0                           0   \n2                         0                           0   \n3                         0                           0   \n4                         0                           0   \n\n   has_secondary_use_health_post  has_secondary_use_gov_office  \\\n0                              0                             0   \n1                              0                             0   \n2                              0                             0   \n3                              0                             0   \n4                              0                             0   \n\n   has_secondary_use_use_police  has_secondary_use_other  damage_grade  \n0                             0                        0             3  \n1                             0                        0             2  \n2                             0                        0             3  \n3                             0                        0             2  \n4                             0                        0             3  "
          },
          "metadata": {}
        }
      ]
    },
    {
      "metadata": {},
      "cell_type": "markdown",
      "source": "https://medium.com/fuzz/machine-learning-classification-models-3040f71e2529"
    },
    {
      "metadata": {},
      "cell_type": "markdown",
      "source": "### EDA"
    },
    {
      "metadata": {},
      "cell_type": "markdown",
      "source": "Before looking at the dataset, we will check to see if the labels we are trying to predict is imbalanced."
    },
    {
      "metadata": {
        "trusted": true
      },
      "cell_type": "code",
      "source": "train_df['damage_grade'].value_counts()",
      "execution_count": null,
      "outputs": []
    },
    {
      "metadata": {
        "trusted": true
      },
      "cell_type": "code",
      "source": "sns.countplot('damage_grade', data=train_df)",
      "execution_count": null,
      "outputs": []
    },
    {
      "metadata": {},
      "cell_type": "markdown",
      "source": "We will examine the correlation between the variables with a single graph."
    },
    {
      "metadata": {
        "trusted": true
      },
      "cell_type": "code",
      "source": "train_df.corr().style.background_gradient(cmap='coolwarm').set_precision(2)",
      "execution_count": null,
      "outputs": []
    },
    {
      "metadata": {},
      "cell_type": "markdown",
      "source": "The column with the highest correlation to 'damage_grade', our label, is 'has_structure_mud_mortar_stone' with a value of only 0.29. One of the highest correlations (0.77) is between the columns 'height_percentage' and 'count_floors_pre_eq'. Let's plot those on a scatter plot to see the relationship visually."
    },
    {
      "metadata": {
        "trusted": true
      },
      "cell_type": "code",
      "source": "sns.scatterplot(y='height_percentage', x='count_floors_pre_eq', hue='damage_grade', data=train_df)",
      "execution_count": null,
      "outputs": []
    },
    {
      "metadata": {
        "trusted": true
      },
      "cell_type": "code",
      "source": "sns.catplot(x='foundation_type', y='count_floors_pre_eq', data=train_df, hue='damage_grade', kind='swarm')",
      "execution_count": null,
      "outputs": []
    },
    {
      "metadata": {},
      "cell_type": "markdown",
      "source": "Let's see if the 'has_secondary_use' column is correlated with the other 'has_secondary_use' columns because it might just be a broader column than the other ones."
    },
    {
      "metadata": {
        "trusted": true
      },
      "cell_type": "code",
      "source": "train_df.filter(like='has_secondary', axis=1).corr().style.background_gradient(cmap='coolwarm').set_precision(2)",
      "execution_count": null,
      "outputs": []
    },
    {
      "metadata": {},
      "cell_type": "markdown",
      "source": "There does not actually seem to be very high correlation between any of them except for 'has_secondary_use' and 'has_secondary_use_agriculture'.  \n\nColumns with different data types will need to be manipulated differently. Thus we will create different lists for the categories of data types to make them easier to use."
    },
    {
      "metadata": {
        "trusted": true
      },
      "cell_type": "code",
      "source": "# continuous or discrete numeric features\nnum_features = ['count_floors_pre_eq', 'age', 'area_percentage',\n       'height_percentage','count_families']\n\n# categorical features\ncat_features = ['land_surface_condition', 'foundation_type',\n       'roof_type', 'ground_floor_type', 'other_floor_type', 'position',\n       'plan_configuration','legal_ownership_status']\n\n# binary features\nbinary_features = ['has_superstructure_adobe_mud',\n       'has_superstructure_mud_mortar_stone',\n       'has_superstructure_stone_flag',\n       'has_superstructure_cement_mortar_stone',\n       'has_superstructure_mud_mortar_brick',\n       'has_superstructure_cement_mortar_brick',\n       'has_superstructure_timber', 'has_superstructure_bamboo',\n       'has_superstructure_rc_non_engineered',\n       'has_superstructure_rc_engineered', 'has_superstructure_other','has_secondary_use',\n       'has_secondary_use_agriculture', 'has_secondary_use_hotel',\n       'has_secondary_use_rental', 'has_secondary_use_institution',\n       'has_secondary_use_school', 'has_secondary_use_industry',\n       'has_secondary_use_health_post', 'has_secondary_use_gov_office',\n       'has_secondary_use_use_police', 'has_secondary_use_other']",
      "execution_count": null,
      "outputs": []
    },
    {
      "metadata": {
        "trusted": true
      },
      "cell_type": "code",
      "source": "# function to create count plots\ndef count_plots(nrows, ncols, feat_list):\n    fig, axes = plt.subplots(nrows=nrows, ncols= ncols, figsize=(18,24))\n    axes_list = [item for sublist in axes for item in sublist]\n    \n    for col in feat_list:\n        ax = axes_list.pop(0)\n        sns.countplot(col, hue='damage_grade', data=train_df, ax=ax)\n        ax.legend(loc='upper right', title='damage grade')\n    # prevents overlapping\n    plt.tight_layout()\n    # removes unused subplots\n    for ax in axes_list:\n        ax.remove()",
      "execution_count": null,
      "outputs": []
    },
    {
      "metadata": {
        "trusted": true
      },
      "cell_type": "code",
      "source": "count_plots(4,2,cat_features)",
      "execution_count": null,
      "outputs": []
    },
    {
      "metadata": {},
      "cell_type": "markdown",
      "source": "In each categorical column, the bar graph is showing some values have significantly more counts than the other. A quick value_counts() of each column can reveal if there is any imbalanced classes."
    },
    {
      "metadata": {
        "trusted": true
      },
      "cell_type": "code",
      "source": "for col in cat_features:\n    print(col)\n    print(train_df[col].value_counts())\n    print('\\n')",
      "execution_count": null,
      "outputs": []
    },
    {
      "metadata": {},
      "cell_type": "markdown",
      "source": "All the columns have some imbalance in the values where one value dominates the total amount."
    },
    {
      "metadata": {
        "trusted": true
      },
      "cell_type": "code",
      "source": "plt.figure(figsize=(10,7))\nsns.boxplot(x='damage_grade', y='age', data=train_df)",
      "execution_count": null,
      "outputs": []
    },
    {
      "metadata": {},
      "cell_type": "markdown",
      "source": "Something funky is happening with the age column. It seems to have outliers that are way higher than the rest. Let's check it out with value counts.  \n\nOn the graph, it shows that the majority age are less than 300 and the outliers are all near 1000. Therefore, we will filter out the 'age' coulmn to return only values higher than 400."
    },
    {
      "metadata": {
        "trusted": true
      },
      "cell_type": "code",
      "source": "train_df[train_df['age']> 400]['age'].value_counts()",
      "execution_count": null,
      "outputs": []
    },
    {
      "metadata": {},
      "cell_type": "markdown",
      "source": "Since the outliers are all the same value and it is so much higher than the rest, we will do some research to see if there truly were buildings about 995 years old in Nepal that was damaged.  \n\nHelpful website: https://www.frontiersin.org/articles/10.3389/fbuil.2015.00008/full\n\nhttps://www.scmp.com/magazines/post-magazine/article/1880561/restoring-nepals-earthquake-hit-monuments-race-against-time\n\nhttps://www.nationalgeographic.com/news/2015/04/150427-nepal-earthquake-damage-temples-buddhism-hinduism-world-heritage-monuments-unesco/#close\n\nhttps://www.frontiersin.org/articles/10.3389/fbuil.2017.00062/full"
    },
    {
      "metadata": {},
      "cell_type": "markdown",
      "source": "After reading through various articles, many confirmed that although some buildings were first constructed in the 4th and 5th century (around 300-500AD), many were destroyed in the 1934 earthquake and reconstructed at a later date. The oldest building was said to be about 875 years old. The buildings with 995 as their age could be a typo.  \n\nSince we have a large dataset of about 260000 rows and there are about 1400 of the outlier value, we will simply drop rows where the age is greater than 800."
    },
    {
      "metadata": {
        "trusted": true
      },
      "cell_type": "code",
      "source": "train_df = train_df[train_df['age'] < 800]\ntrain_df.head()",
      "execution_count": null,
      "outputs": []
    },
    {
      "metadata": {},
      "cell_type": "markdown",
      "source": "A boxplot will be created again to check on the changes."
    },
    {
      "metadata": {
        "trusted": true
      },
      "cell_type": "code",
      "source": "sns.boxplot(x='damage_grade', y='age', data=train_df, palette='inferno_r')",
      "execution_count": null,
      "outputs": []
    },
    {
      "metadata": {},
      "cell_type": "markdown",
      "source": "Much better! Now let's have a look at a bar graph of 'age' and 'damage_grade' to visualize the average for the three categories."
    },
    {
      "metadata": {
        "trusted": true
      },
      "cell_type": "code",
      "source": "sns.barplot(x='damage_grade', y='age', data=train_df, palette='ocean_r')",
      "execution_count": null,
      "outputs": []
    },
    {
      "metadata": {},
      "cell_type": "markdown",
      "source": "From the bar graph, we can see that buildings labeled with grade 1 damage is on average younger and the damage grade increases with age. This makes sense since older buildings are more likely to not be up to standard with the building codes.  \nLet's take a look at the other numeric features in a histogram plot."
    },
    {
      "metadata": {
        "trusted": true
      },
      "cell_type": "code",
      "source": "# function to create box plots\ndef count_plots(nrows, ncols, feat_list):\n    fig, axes = plt.subplots(nrows=nrows, ncols= ncols, figsize=(20,15))\n    axes_list = [item for sublist in axes for item in sublist]\n    \n    for col in feat_list:\n        ax = axes_list.pop(0)\n        sns.countplot('damage_grade', y=col, data=train_df, ax=ax)\n    # prevents overlapping\n    plt.tight_layout()\n    # removes unused subplots\n    for ax in axes_list:\n        ax.remove()",
      "execution_count": null,
      "outputs": []
    },
    {
      "metadata": {
        "trusted": true
      },
      "cell_type": "code",
      "source": "count_plots(2,3,num_features)",
      "execution_count": null,
      "outputs": []
    },
    {
      "metadata": {},
      "cell_type": "markdown",
      "source": "### Data Preprocessing"
    },
    {
      "metadata": {
        "trusted": true
      },
      "cell_type": "code",
      "source": "train_final = pd.get_dummies(train_df[cat_features])\ntest_final = pd.get_dummies(test[cat_features])\n\nprint(train_final.shape)\nprint(test_final.shape)",
      "execution_count": null,
      "outputs": []
    },
    {
      "metadata": {
        "trusted": true,
        "scrolled": false
      },
      "cell_type": "code",
      "source": "features = np.concatenate([train_final, np.array(train_df[binary_features]), np.array(train_df[num_features])], axis=1)\nprint('training features shape: ', features.shape)\n\ntest_features = np.concatenate([test_final, np.array(test[binary_features]), np.array(test[num_features])], axis=1)\nprint('test features shape: ', test_features.shape)",
      "execution_count": null,
      "outputs": []
    },
    {
      "metadata": {
        "trusted": true
      },
      "cell_type": "code",
      "source": "# from sklearn.preprocessing import StandardScaler\n\n# scaler = StandardScaler().fit(features[:, -5:])\n# features[:, -5:] = scaler.transform(features[:, -5:])\n\n# test_features[:, -5:] = scaler.transform(test_features[:, -5:])\n\n# print(features[:, -5:])\n# print(test_features[0:5])",
      "execution_count": null,
      "outputs": []
    },
    {
      "metadata": {
        "trusted": true
      },
      "cell_type": "code",
      "source": "from sklearn.model_selection import train_test_split\n\nX = features\ny = np.array(train_df['damage_grade'])\n\nx_train, x_test, y_train, y_test = train_test_split(X, y, test_size=0.3, random_state=111)\nprint(x_train.shape)\nprint(x_test.shape)",
      "execution_count": null,
      "outputs": []
    },
    {
      "metadata": {
        "trusted": true
      },
      "cell_type": "code",
      "source": "from sklearn.linear_model import LogisticRegression\n\nLR = LogisticRegression()\n\nLR.fit(x_train, y_train)\n\nresult = LR.predict(x_test)\n\nresult",
      "execution_count": null,
      "outputs": []
    },
    {
      "metadata": {
        "trusted": true
      },
      "cell_type": "code",
      "source": "",
      "execution_count": null,
      "outputs": []
    },
    {
      "metadata": {
        "trusted": true
      },
      "cell_type": "code",
      "source": "",
      "execution_count": null,
      "outputs": []
    },
    {
      "metadata": {
        "trusted": true
      },
      "cell_type": "code",
      "source": "",
      "execution_count": null,
      "outputs": []
    }
  ],
  "metadata": {
    "kernelspec": {
      "name": "python36",
      "display_name": "Python 3.6",
      "language": "python"
    },
    "language_info": {
      "mimetype": "text/x-python",
      "nbconvert_exporter": "python",
      "name": "python",
      "pygments_lexer": "ipython3",
      "version": "3.6.6",
      "file_extension": ".py",
      "codemirror_mode": {
        "version": 3,
        "name": "ipython"
      }
    }
  },
  "nbformat": 4,
  "nbformat_minor": 2
}